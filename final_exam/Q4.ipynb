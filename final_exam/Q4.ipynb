{
 "cells": [
  {
   "cell_type": "code",
   "execution_count": 11,
   "metadata": {},
   "outputs": [
    {
     "name": "stdout",
     "output_type": "stream",
     "text": [
      "[0.41892496 0.5795886  0.00148644]\n",
      "[[0.33054932 0.32912054 0.34033014]\n",
      " [0.33828766 0.33797772 0.32373462]\n",
      " [0.27817969 0.27033024 0.45149007]]\n",
      "0.0048236554774752655\n"
     ]
    }
   ],
   "source": [
    "\"\"\"\n",
    "    Given observations, find hidden state sequence by viterbi algorithm\n",
    "\"\"\"\n",
    "import numpy as np\n",
    "from hmmlearn import hmm\n",
    "\n",
    "states = [\"London\", \"Barcelona\", \"Newyork\"]\n",
    "n_states = len(states)   # = 3\n",
    "\n",
    "observations = [\"Tuesday, \"\"Friday\"]\n",
    "n_observations = len(observations)\n",
    "\n",
    "start_probability = np.array([0.1, 0.6, 0.3])\n",
    "\n",
    "transition_probability = np.array([\n",
    "  [0.10, 0.70, 0.20],\n",
    "  [0.75, 0.15, 0.10],\n",
    "  [0.60, 0.35, 0.05]\n",
    "])\n",
    "\n",
    "model = hmm.MultinomialHMM(n_components=n_states) \n",
    "X = [[0,0,1,0],[0,0,0,0],[0,0,0,1],[0,0,1,1]]\n",
    "model.fit(X)\n",
    "# MultinomialHMM: observation distribution in Multinomial\n",
    "print(model.startprob_)\n",
    "print(model.transmat_)\n",
    "\n",
    "prob = model.decode(np.array([0,1,0,1]).reshape(4,1))\n",
    "print(np.exp(prob[0]))\n"
   ]
  }
 ],
 "metadata": {
  "kernelspec": {
   "display_name": "Python 3.10.5 ('sklearn-env')",
   "language": "python",
   "name": "python3"
  },
  "language_info": {
   "name": "python",
   "version": "3.10.5"
  },
  "orig_nbformat": 4,
  "vscode": {
   "interpreter": {
    "hash": "0a2adf9a08ea23ac2e3332469154c91ad6304789584be7b5db1dc0a647ad5b67"
   }
  }
 },
 "nbformat": 4,
 "nbformat_minor": 2
}
