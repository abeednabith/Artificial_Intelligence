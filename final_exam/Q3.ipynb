{
 "cells": [
  {
   "cell_type": "code",
   "execution_count": 14,
   "metadata": {},
   "outputs": [
    {
     "name": "stdout",
     "output_type": "stream",
     "text": [
      "[[1.10111100e+09]\n",
      " [1.10000101e+09]\n",
      " [1.10000101e+09]\n",
      " [1.11001000e+09]\n",
      " [1.10111100e+09]\n",
      " [1.11001000e+09]\n",
      " [1.11010000e+09]\n",
      " [1.10111100e+09]\n",
      " [1.00101101e+09]\n",
      " [1.10111100e+09]\n",
      " [1.00111010e+09]\n",
      " [1.10111100e+09]\n",
      " [1.11010000e+09]\n",
      " [1.11001000e+09]\n",
      " [1.11001000e+09]\n",
      " [1.11001000e+09]]\n"
     ]
    }
   ],
   "source": [
    "from random import randint\n",
    "import numpy\n",
    "from numpy.random import rand\n",
    "\n",
    "def crossover(parents, offspring_size):\n",
    "    offspring = numpy.empty(offspring_size)   # offspring: 4x6 matrix\n",
    "    # The point at which crossover takes place between two parents. Usually it is at the center.\n",
    "    crossover_point = numpy.uint8(offspring_size[0]/2)     # numpy.unit8(6/2 = 3) \n",
    "\n",
    "    for k in range(offspring_size[0]):        # k = 0~ 3\n",
    "        # Index of the first parent to mate.\n",
    "        parent1_idx = k%parents.shape[0]      # (0~3) % 4 = 0~3\n",
    "        # Index of the second parent to mate.\n",
    "        parent2_idx = (k+1)%parents.shape[0]  # (1~4) % 4 = 1,2,3,0\n",
    "        # The new offspring will have its first half of its genes taken from the first parent.\n",
    "        offspring[k, 0:crossover_point] = parents[parent1_idx, 0:crossover_point]\n",
    "        # The new offspring will have its second half of its genes taken from the second parent.\n",
    "        offspring[k, crossover_point:] = parents[parent2_idx, crossover_point:]\n",
    "    return offspring\n",
    "\n",
    "def mutation(offspring_crossover):\n",
    "    # Mutation changes a single gene in each offspring randomly.\n",
    "    for idx in range(offspring_crossover.shape[0]):\n",
    "        random_value = numpy.random.uniform(-1.0, 1.0, 1)\n",
    "        offspring_crossover[idx] = offspring_crossover[idx] + random_value\n",
    "    return offspring_crossover\n",
    "\n",
    "\n",
    "def main():\n",
    "    # Number of the weights we are looking to optimize.\n",
    "    num_weights = 1\n",
    "\n",
    "    # Defining the population size.\n",
    "    pop_size = 16\n",
    "    parents = numpy.array([[1101111001], [1100001011], [1100001011], [1110010000], [1101111001], [1110010000], [1110100001], [1101111001], [1001011010],\n",
    "        [1101111001], [1001110101], [1101111001], [1110100001], [1110010000], [1110010000], [1110010000]])\n",
    "\n",
    "    num_generations = 1\n",
    "    for generation in range(num_generations):\n",
    "        # Generating next generation using crossover.\n",
    "        offspring_crossover = crossover(parents, offspring_size=(pop_size, num_weights))\n",
    "         \n",
    "        # Adding some variations to the offsrping using mutation.\n",
    "        offspring_mutation = mutation(offspring_crossover)\n",
    "        print(offspring_mutation)\n",
    "\n",
    "if __name__ == '__main__':\n",
    "    main()\n",
    "\n"
   ]
  }
 ],
 "metadata": {
  "kernelspec": {
   "display_name": "Python 3.10.5 ('sklearn-env')",
   "language": "python",
   "name": "python3"
  },
  "language_info": {
   "name": "python",
   "version": "3.10.5"
  },
  "orig_nbformat": 4,
  "vscode": {
   "interpreter": {
    "hash": "0a2adf9a08ea23ac2e3332469154c91ad6304789584be7b5db1dc0a647ad5b67"
   }
  }
 },
 "nbformat": 4,
 "nbformat_minor": 2
}
