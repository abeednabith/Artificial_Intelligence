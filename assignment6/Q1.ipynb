{
 "cells": [
  {
   "cell_type": "code",
   "execution_count": 6,
   "metadata": {},
   "outputs": [
    {
     "name": "stdout",
     "output_type": "stream",
     "text": [
      "If Observation sequence is: red, red, red, yellow, red\n",
      "Then the Bottle Series will be: B1, B1, B2, B3, B2\n",
      "The model Score is: -5.935089171594136\n"
     ]
    }
   ],
   "source": [
    "\"\"\"\n",
    "    Given observations, find hidden state sequence by viterbi algorithm\n",
    "\"\"\"\n",
    "import numpy as np\n",
    "from hmmlearn import hmm\n",
    "\n",
    "states = [\"B1\", \"B2\", \"B3\"]\n",
    "n_states = len(states)   # =3\n",
    "\n",
    "observations = [\"red\", \"red\", \"yellow\", \"green\", \"yellow\"]\n",
    "n_observations = len(observations)\n",
    "\n",
    "start_probability = np.array([0.4, 0.35, 0.25])\n",
    "\n",
    "transition_probability = np.array([\n",
    "  [0.3, 0.2, 0.5],\n",
    "  [0.1, 0.3, 0.6],\n",
    "  [0.7, 0.25, 0.05]\n",
    "])\n",
    "\n",
    "emission_probability = np.array([\n",
    "  [0.8, 0.1, 0.1],\n",
    "  [0.2, 0.4, 0.4],\n",
    "  [0.15, 0.25, 0.6]\n",
    "])\n",
    "\n",
    "model = hmm.MultinomialHMM(n_components=n_states) \n",
    "# MultinomialHMM: observation distribution in Multinomial\n",
    "model.startprob_=start_probability\n",
    "model.transmat_=transition_probability\n",
    "model.emissionprob_=emission_probability\n",
    "\n",
    "seen = np.array([[0,0,1,2,1]]).T        # 0: red;     1: yellow   2: green => r r y g y\n",
    "logprob, box = model.decode(seen, algorithm=\"viterbi\")\n",
    "seen = [0,0,1,2,1]\n",
    "print(\"If Observation sequence is:\", \", \".join(map(lambda x: observations[x], seen)))\n",
    "print(\"Then the Bottle Series will be:\", \", \".join(map(lambda x: states[x], box)))\n",
    "\n",
    "\"\"\"\n",
    "    Find probability of observation sequence\n",
    "\"\"\"\n",
    "seen = np.array([[0,0,1,2,1]]).T                   # P(rrygy) =?\n",
    "print(f\"The model Score is: {model.score(seen)}\")"
   ]
  }
 ],
 "metadata": {
  "kernelspec": {
   "display_name": "Python 3.10.5 ('sklearn-env')",
   "language": "python",
   "name": "python3"
  },
  "language_info": {
   "codemirror_mode": {
    "name": "ipython",
    "version": 3
   },
   "file_extension": ".py",
   "mimetype": "text/x-python",
   "name": "python",
   "nbconvert_exporter": "python",
   "pygments_lexer": "ipython3",
   "version": "3.10.4"
  },
  "orig_nbformat": 4,
  "vscode": {
   "interpreter": {
    "hash": "0a2adf9a08ea23ac2e3332469154c91ad6304789584be7b5db1dc0a647ad5b67"
   }
  }
 },
 "nbformat": 4,
 "nbformat_minor": 2
}
