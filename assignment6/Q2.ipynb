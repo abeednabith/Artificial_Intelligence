{
  "cells": [
    {
      "cell_type": "code",
      "execution_count": 5,
      "metadata": {
        "id": "MwWHTiwSeqWj"
      },
      "outputs": [
        {
          "name": "stdout",
          "output_type": "stream",
          "text": [
            "Q1(a) --> P(smsl HHCC) =  3.6550787399258056e-12\n",
            "Q1(b) --> 𝛼2(1) and 𝛼2(2)= 0.0168 and 0.00672\n"
          ]
        }
      ],
      "source": [
        "#Given Transition Probabilities\n",
        "#  [ [pHH, pCH],\n",
        "#    [pHC, pCC] ]\n",
        "pHH, pCH, pHC, pCC = 0.7, 0.3, 0.4, 0.6\n",
        "\n",
        "#Given Initial Probabilities\n",
        "# [ [pH, pC] ]\n",
        "pH, pC = 0.6, 0.6\n",
        "\n",
        "#Given Emission Probabilities\n",
        "#  [ [psH, pmH, plH],\n",
        "#    [psC, pmC, plC] ]\n",
        "psH, pmH, plH, psC, pmC, plC = 0.1,0.4,0.4,0.7,0.2,0.1\n",
        "\n",
        "seq = ['S','M','S', 'L']\n",
        "probabilities = []\n",
        "out = []\n",
        "\n",
        "# Initialization\n",
        "if seq[0] == 'S':\n",
        "      probabilities.append((pH*psH, pC*psC))\n",
        "else:\n",
        "     probabilities.append((pH*plH, pC*plC))\n",
        "\n",
        "# Recursion\n",
        "for i in range(1,len(seq)):\n",
        "    hot_prev, cold_prev = probabilities[-1]\n",
        "    if seq[i] == 'S':\n",
        "        hot_today = max(hot_prev*pHH*psH, cold_prev*pHC*psH)\n",
        "        cold_today = max(hot_prev*pCH*psC, cold_prev*pCC*psC)\n",
        "        probabilities.append((hot_today, cold_today))\n",
        "    else:\n",
        "        hot_today = max(hot_prev*pHH*plH, cold_prev*pHC*plH)\n",
        "        cold_today = max(hot_prev*pCH*plC, cold_prev*pCC*plC)       \n",
        "        probabilities.append((hot_today, cold_today))\n",
        "\n",
        "for p in probabilities:\n",
        "    if(p[0]>p[1]):\n",
        "        out.append('S')\n",
        "    elif(p[1]>p[0] ):\n",
        "        out.append('M')\n",
        "    else :\n",
        "        out.append('L')\n",
        "\n",
        "# Termination\n",
        "#  Q2(a) p = P(smsl HHCC) ?\n",
        "p = p[0]*p[0]*p[1]*p[1]        # 0: H and 1: C\n",
        "print(\"Q1(a) --> P(smsl HHCC) = \", p)\n",
        "\n",
        "#  Q2(b) Calculate 𝛼2(1) 𝑎𝑛𝑑 𝛼2(2) in forward algorithm\n",
        "𝛼2_1 = 0.06*0.7*0.4\n",
        "𝛼2_2 = 0.028*0.6*0.4 \n",
        "\n",
        "print(f\"Q1(b) --> 𝛼2(1) and 𝛼2(2)= {𝛼2_1} and {𝛼2_2}\")"
      ]
    }
  ],
  "metadata": {
    "colab": {
      "name": "hw6.ipynb",
      "provenance": []
    },
    "kernelspec": {
      "display_name": "Python 3.10.5 ('sklearn-env')",
      "language": "python",
      "name": "python3"
    },
    "language_info": {
      "codemirror_mode": {
        "name": "ipython",
        "version": 3
      },
      "file_extension": ".py",
      "mimetype": "text/x-python",
      "name": "python",
      "nbconvert_exporter": "python",
      "pygments_lexer": "ipython3",
      "version": "3.10.4"
    },
    "vscode": {
      "interpreter": {
        "hash": "0a2adf9a08ea23ac2e3332469154c91ad6304789584be7b5db1dc0a647ad5b67"
      }
    }
  },
  "nbformat": 4,
  "nbformat_minor": 0
}
