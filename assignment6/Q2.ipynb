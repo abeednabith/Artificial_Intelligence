{
  "cells": [
    {
      "cell_type": "code",
      "execution_count": null,
      "metadata": {
        "id": "MwWHTiwSeqWj"
      },
      "outputs": [],
      "source": [
        "#Given Transition Probabilities\n",
        "p_11, p_12, p_21, p_22 = 0.7, 0.3, 0.4, 0.6\n",
        "\n",
        "#Given Initial Probabilities\n",
        "p_1, p_2 = 0.6, 0.6\n",
        "\n",
        "#Given Emission Probabilities\n",
        "p_1s, p_1m, p_1l, p_2s, p_2m, p_2l = 0.1,0.4,0.4,0.7,0.2,0.1\n",
        "\n",
        "seq = ['S','M','L']\n",
        "probabilities = []\n",
        "out = []\n",
        "\n",
        "if seq[0] == 'X':\n",
        "      probabilities.append((p_1*p_1s, p_2*p_2s))\n",
        "else:\n",
        "     probabilities.append((p_1*p_1l, p_2*p_2l))\n",
        "\n",
        "for i in range(1,len(seq)):\n",
        "    hot_prev, cold_prev = probabilities[-1]\n",
        "    #Given sequence has only X and Z, so we consider these cases only\n",
        "    if seq[i] == 'X':\n",
        "        hot_today = max(hot_prev*p_11*p_1s, cold_prev*p_21*p_1s)\n",
        "        cold_today = max(hot_prev*p_12*p_2s, cold_prev*p_22*p_2s)\n",
        "        probabilities.append((hot_today, cold_today))\n",
        "    else:\n",
        "        hot_today = max(hot_prev*p_11*p_1l, cold_prev*p_21*p_1l)\n",
        "        cold_today = max(hot_prev*p_12*p_2l, cold_prev*p_22*p_2l)\n",
        "        \n",
        "        probabilities.append((hot_today, cold_today))\n",
        "\n",
        "for p in probabilities:\n",
        "    if(p[0]>p[1]):\n",
        "        out.append('S')\n",
        "    elif(p[1]>p[0] ):\n",
        "        out.append('M')\n",
        "    else :\n",
        "        out.append('L')\n",
        "\n",
        "#  Q2(a) p = P(smsl HHCC) ?\n",
        "\n",
        "p = p[0]*p[0]*p[1]*p[1]        # 0: H and 1: C\n",
        "print(\"P(smsl HHCC) = \", p)\n",
        "\n",
        "#  Q2(b) Calculate 𝛼2(1) 𝑎𝑛𝑑 𝛼2(2) in forward algorithm\n",
        "     \n",
        "𝛼2_1 = 0.06*0.7*0.4\n",
        "𝛼2_2 = 0.028*0.6*0.4 \n",
        "\n",
        "print(f\"𝛼2(1) and 𝛼2(2)= {𝛼2_1} and {𝛼2_2}\")"
      ]
    }
  ],
  "metadata": {
    "colab": {
      "name": "hw6.ipynb",
      "provenance": []
    },
    "kernelspec": {
      "display_name": "Python 3.10.5 ('sklearn-env')",
      "language": "python",
      "name": "python3"
    },
    "language_info": {
      "name": "python",
      "version": "3.10.5"
    },
    "vscode": {
      "interpreter": {
        "hash": "0a2adf9a08ea23ac2e3332469154c91ad6304789584be7b5db1dc0a647ad5b67"
      }
    }
  },
  "nbformat": 4,
  "nbformat_minor": 0
}
