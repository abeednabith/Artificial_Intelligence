{
 "cells": [
  {
   "cell_type": "code",
   "execution_count": 129,
   "metadata": {},
   "outputs": [],
   "source": [
    "import numpy as np\n",
    "import matplotlib.pyplot as plt\n",
    "import pandas as pd\n",
    "import random as rn"
   ]
  },
  {
   "cell_type": "code",
   "execution_count": 156,
   "metadata": {},
   "outputs": [
    {
     "data": {
      "text/html": [
       "<div>\n",
       "<style scoped>\n",
       "    .dataframe tbody tr th:only-of-type {\n",
       "        vertical-align: middle;\n",
       "    }\n",
       "\n",
       "    .dataframe tbody tr th {\n",
       "        vertical-align: top;\n",
       "    }\n",
       "\n",
       "    .dataframe thead th {\n",
       "        text-align: right;\n",
       "    }\n",
       "</style>\n",
       "<table border=\"1\" class=\"dataframe\">\n",
       "  <thead>\n",
       "    <tr style=\"text-align: right;\">\n",
       "      <th></th>\n",
       "      <th>Name</th>\n",
       "      <th>Age</th>\n",
       "      <th>Gender</th>\n",
       "      <th>Fan</th>\n",
       "    </tr>\n",
       "  </thead>\n",
       "  <tbody>\n",
       "    <tr>\n",
       "      <th>0</th>\n",
       "      <td>1</td>\n",
       "      <td>32</td>\n",
       "      <td>1</td>\n",
       "      <td>Rolling Stones</td>\n",
       "    </tr>\n",
       "    <tr>\n",
       "      <th>1</th>\n",
       "      <td>3</td>\n",
       "      <td>40</td>\n",
       "      <td>1</td>\n",
       "      <td>Neither</td>\n",
       "    </tr>\n",
       "    <tr>\n",
       "      <th>2</th>\n",
       "      <td>5</td>\n",
       "      <td>16</td>\n",
       "      <td>0</td>\n",
       "      <td>Taylor Swift</td>\n",
       "    </tr>\n",
       "    <tr>\n",
       "      <th>3</th>\n",
       "      <td>9</td>\n",
       "      <td>14</td>\n",
       "      <td>0</td>\n",
       "      <td>Taylor Swift</td>\n",
       "    </tr>\n",
       "    <tr>\n",
       "      <th>4</th>\n",
       "      <td>6</td>\n",
       "      <td>55</td>\n",
       "      <td>1</td>\n",
       "      <td>Neither</td>\n",
       "    </tr>\n",
       "    <tr>\n",
       "      <th>5</th>\n",
       "      <td>2</td>\n",
       "      <td>40</td>\n",
       "      <td>1</td>\n",
       "      <td>Taylor Swift</td>\n",
       "    </tr>\n",
       "    <tr>\n",
       "      <th>6</th>\n",
       "      <td>0</td>\n",
       "      <td>20</td>\n",
       "      <td>0</td>\n",
       "      <td>Neither</td>\n",
       "    </tr>\n",
       "    <tr>\n",
       "      <th>7</th>\n",
       "      <td>7</td>\n",
       "      <td>15</td>\n",
       "      <td>1</td>\n",
       "      <td>Taylor Swift</td>\n",
       "    </tr>\n",
       "    <tr>\n",
       "      <th>8</th>\n",
       "      <td>8</td>\n",
       "      <td>55</td>\n",
       "      <td>0</td>\n",
       "      <td>Rolling Stones</td>\n",
       "    </tr>\n",
       "    <tr>\n",
       "      <th>9</th>\n",
       "      <td>4</td>\n",
       "      <td>15</td>\n",
       "      <td>1</td>\n",
       "      <td>Rolling Stones</td>\n",
       "    </tr>\n",
       "  </tbody>\n",
       "</table>\n",
       "</div>"
      ],
      "text/plain": [
       "   Name Age  Gender             Fan\n",
       "0     1  32       1  Rolling Stones\n",
       "1     3  40       1         Neither\n",
       "2     5  16       0    Taylor Swift\n",
       "3     9  14       0    Taylor Swift\n",
       "4     6  55       1         Neither\n",
       "5     2  40       1    Taylor Swift\n",
       "6     0  20       0         Neither\n",
       "7     7  15       1    Taylor Swift\n",
       "8     8  55       0  Rolling Stones\n",
       "9     4  15       1  Rolling Stones"
      ]
     },
     "execution_count": 156,
     "metadata": {},
     "output_type": "execute_result"
    }
   ],
   "source": [
    "#dataset\n",
    "fan = ['Rolling Stones','Neither','Taylor Swift','Taylor Swift','Neither','Taylor Swift','Neither','Taylor Swift','Rolling Stones','Rolling Stones']\n",
    "numpy_array = np.array([['Bill',32,'M', 'Rolling Stones'],['Henry',40,'M','Neither'],['Mary',16,'F','Taylor Swift'],\n",
    "['Tiffany',14,'F','Taylor Swift'],['Michael',55,'M','Neither'], ['Carlos',40,'M','Taylor Swift'],\n",
    "['Ashely',20,'F','Neither'],['Robert',15,'M','Taylor Swift'],['Sally',55,'F','Rolling Stones'],['John',15,'M','Rolling Stones']])\n",
    "\n",
    "dataset = pd.DataFrame(numpy_array,columns=['Name','Age','Gender','Fan'])\n",
    "\n",
    "# importing the preprocessing module from scikit-learn for the label change\n",
    "from sklearn import preprocessing\n",
    "LE = preprocessing.LabelEncoder()\n",
    "\n",
    "# Fitting it to our dataset\n",
    "dataset.Gender = LE.fit_transform(dataset.Gender)\n",
    "dataset.Name = LE.fit_transform(dataset.Name)\n",
    "dataset"
   ]
  },
  {
   "cell_type": "code",
   "execution_count": 131,
   "metadata": {},
   "outputs": [],
   "source": [
    "#shuffler = rn.sample(range(11),10) # Generating 10 random & unique integers\n",
    "\n",
    "#dataset['ID'] = shuffler # Adding it as a new column\n",
    "\n",
    "#dataset.set_index('ID', inplace=True) # Resetting the index\n",
    "\n",
    "# Finally Sorting the DataFrame according to the new index\n",
    "#dataset.sort_index(inplace=True)\n",
    "#dataset"
   ]
  },
  {
   "cell_type": "code",
   "execution_count": 157,
   "metadata": {},
   "outputs": [
    {
     "name": "stdout",
     "output_type": "stream",
     "text": [
      "[[1 '32' 1]\n",
      " [3 '40' 1]\n",
      " [5 '16' 0]\n",
      " [9 '14' 0]\n",
      " [6 '55' 1]\n",
      " [2 '40' 1]\n",
      " [0 '20' 0]]\n"
     ]
    }
   ],
   "source": [
    "# Splitting it on a 70:30 ratio. \n",
    "X_train = dataset.iloc[:7, :-1].values # First 7 Data points for Training\n",
    "X_test = dataset.iloc[7:, :-1].values #Last 3 for Testing\n",
    "y_train = dataset.iloc[:7, 3]\n",
    "y_test = dataset.iloc[7:, 3]\n",
    "print(X_train)"
   ]
  },
  {
   "cell_type": "code",
   "execution_count": 174,
   "metadata": {},
   "outputs": [
    {
     "data": {
      "text/plain": [
       "array(['Rolling Stones', 'Neither', 'Taylor Swift', 'Taylor Swift',\n",
       "       'Neither', 'Taylor Swift', 'Neither'], dtype=object)"
      ]
     },
     "execution_count": 174,
     "metadata": {},
     "output_type": "execute_result"
    }
   ],
   "source": [
    "# Training and Predictions\n",
    "from sklearn.neighbors import KNeighborsClassifier\n",
    "knn = KNeighborsClassifier(n_neighbors=1)\n",
    "knn.fit(X_train, y_train)\n",
    "\n",
    "y_pred = knn.predict(X_train)\n",
    "\n",
    "knn.score(X_test, y_test)\n",
    "y_pred"
   ]
  },
  {
   "cell_type": "code",
   "execution_count": 160,
   "metadata": {},
   "outputs": [
    {
     "name": "stdout",
     "output_type": "stream",
     "text": [
      "                precision    recall  f1-score   support\n",
      "\n",
      "       Neither       0.00      0.00      0.00         0\n",
      "Rolling Stones       0.00      0.00      0.00         2\n",
      "  Taylor Swift       0.50      1.00      0.67         1\n",
      "\n",
      "      accuracy                           0.33         3\n",
      "     macro avg       0.17      0.33      0.22         3\n",
      "  weighted avg       0.17      0.33      0.22         3\n",
      "\n"
     ]
    },
    {
     "data": {
      "text/plain": [
       "Text(87.0, 0.5, 'Truth')"
      ]
     },
     "execution_count": 160,
     "metadata": {},
     "output_type": "execute_result"
    },
    {
     "data": {
      "image/png": "[encoded data removed]",
      "text/plain": [
       "<Figure size 864x432 with 2 Axes>"
      ]
     },
     "metadata": {
      "needs_background": "light"
     },
     "output_type": "display_data"
    }
   ],
   "source": [
    "#confusion matrix to evaluating the algorithm\n",
    "from sklearn.metrics import confusion_matrix, classification_report\n",
    "\n",
    "cm = confusion_matrix(y_test, y_pred)\n",
    "print(classification_report(y_test, y_pred, zero_division=0))\n",
    "\n",
    "import seaborn as sn\n",
    "plt.figure(figsize = (12,6))\n",
    "sn.heatmap(cm, annot=True)\n",
    "plt.xlabel('Predicted')\n",
    "plt.ylabel('Truth')"
   ]
  },
  {
   "cell_type": "code",
   "execution_count": 161,
   "metadata": {},
   "outputs": [
    {
     "name": "stdout",
     "output_type": "stream",
     "text": [
      "[0.6666666666666666, 0.6666666666666666, 0.6666666666666666, 0.6666666666666666, 1.0, 0.6666666666666666]\n"
     ]
    },
    {
     "data": {
      "image/png": "[encoded data removed]",
      "text/plain": [
       "<Figure size 864x432 with 1 Axes>"
      ]
     },
     "metadata": {
      "needs_background": "light"
     },
     "output_type": "display_data"
    }
   ],
   "source": [
    "#Comparing Error Rate with the K Value\n",
    "\n",
    "error = []\n",
    "\n",
    "# Calculating error for K values between 1 and 7\n",
    "for i in range(1, 7):\n",
    "    knn = KNeighborsClassifier(n_neighbors=i)   # K = 1 to 6\n",
    "    knn.fit(X_train, y_train)\n",
    "    pred_i = knn.predict(X_test)\n",
    "    error.append(np.mean(pred_i != y_test))\n",
    "\n",
    "plt.figure(figsize=(12, 6))\n",
    "plt.plot(range(1, 7), error, color='red', linestyle='dashed', marker='o',\n",
    "         markerfacecolor='blue', markersize=10)\n",
    "plt.title('Error Rate K Value')\n",
    "plt.xlabel('K Value')\n",
    "plt.ylabel('Mean Error')\n",
    "print(error)"
   ]
  }
 ],
 "metadata": {
  "kernelspec": {
   "display_name": "Python 3.9.12 ('base')",
   "language": "python",
   "name": "python3"
  },
  "language_info": {
   "codemirror_mode": {
    "name": "ipython",
    "version": 3
   },
   "file_extension": ".py",
   "mimetype": "text/x-python",
   "name": "python",
   "nbconvert_exporter": "python",
   "pygments_lexer": "ipython3",
   "version": "3.9.12"
  },
  "orig_nbformat": 4,
  "vscode": {
   "interpreter": {
    "hash": "1e9a73f8d3ac302bccfbecb3fae28533392a9eddc6e36df7ca982d921978b306"
   }
  }
 },
 "nbformat": 4,
 "nbformat_minor": 2
}
