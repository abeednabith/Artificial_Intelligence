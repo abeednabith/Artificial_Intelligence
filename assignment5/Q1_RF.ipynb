{
 "cells": [
  {
   "cell_type": "code",
   "execution_count": 9,
   "metadata": {},
   "outputs": [
    {
     "name": "stdout",
     "output_type": "stream",
     "text": [
      "Number of observations in the training data: 5\n",
      "Number of observations in the test data: 1\n",
      "\n",
      "prediction: [0]\n"
     ]
    },
    {
     "data": {
      "text/plain": [
       "array([[0.9   , 0.0445, 0.0555]])"
      ]
     },
     "execution_count": 9,
     "metadata": {},
     "output_type": "execute_result"
    }
   ],
   "source": [
    "from sklearn.ensemble import RandomForestClassifier\n",
    "import pandas as pd\n",
    "import numpy as np\n",
    "\n",
    "# Setting random seed\n",
    "np.random.seed(0)\n",
    "\n",
    "# dataset\n",
    "inputs = np.array([[1,0,0,7,'Apple'],[0,1,0,20,'Watermelon'],[1,0,0,1,'Cherry'],[0,1,0,7.5,'Apple'],[1,0,0,1,'Strawberry'],[1,0,0,0.8,'Cherry']])\n",
    "\n",
    "# Creating a dataframe with the four feature variables\n",
    "df = pd.DataFrame(inputs, columns=['Red','Green','Blue', 'Size', 'Fruit'])\n",
    "\n",
    "# Viewing the top 5 rows\n",
    "df.head()\n",
    "\n",
    "# encode the label values to corresponding numerical values using LabelEncoder package\n",
    "from sklearn.preprocessing import LabelEncoder\n",
    "lbl = LabelEncoder()\n",
    "# Fitting it to our dataset\n",
    "df.Fruit = lbl.fit_transform(df.Fruit)\n",
    "\n",
    "# Viewing tthe transformed dataset\n",
    "df\n",
    "\n",
    "# Creating Training Dataset by random number if it is less than 0.7, and the rest of them will be in Test Dataset  \n",
    "df['is_train'] = np.random.uniform(0, 1, len(df)) <= 0.7\n",
    "\n",
    "# Creating dataframes with test rows and training rows\n",
    "train, test = df[df['is_train'] == True] , df[df['is_train'] == False]\n",
    "\n",
    "# Show the number of observations for the test and training dataframes\n",
    "print('Number of observations in the training data:', len(train))\n",
    "print('Number of observations in the test data:', len(test))\n",
    "\n",
    "# Creating a list of the feature column's names\n",
    "features = df.columns[:4]\n",
    "\n",
    "# Viewing features\n",
    "features\n",
    "\n",
    "# Converting each species name into digits\n",
    "target = pd.factorize(train['Fruit'])[0]\n",
    "\n",
    "# Creating a random forest Classifier\n",
    "clf = RandomForestClassifier(n_jobs=2, random_state=0)\n",
    "# n_jobs: how many processors will be allowed to use\n",
    "# random_state:  random seed for bootstrapping\n",
    "\n",
    "# Training the classifier\n",
    "clf.fit(train[features], target)\n",
    "\n",
    "# Applying the trained Classifier to the rest\n",
    "print(f\"\\nprediction: {clf.predict(test[features])}\")\n",
    "\n",
    "# Viewing the predicted probabilities of the first 5 observations\n",
    "# Probabilities of 4 predicted fruits\n",
    "clf.predict_proba(test[features])[0:5]"
   ]
  }
 ],
 "metadata": {
  "kernelspec": {
   "display_name": "Python 3.9.12 ('base')",
   "language": "python",
   "name": "python3"
  },
  "language_info": {
   "codemirror_mode": {
    "name": "ipython",
    "version": 3
   },
   "file_extension": ".py",
   "mimetype": "text/x-python",
   "name": "python",
   "nbconvert_exporter": "python",
   "pygments_lexer": "ipython3",
   "version": "3.9.12"
  },
  "orig_nbformat": 4,
  "vscode": {
   "interpreter": {
    "hash": "1e9a73f8d3ac302bccfbecb3fae28533392a9eddc6e36df7ca982d921978b306"
   }
  }
 },
 "nbformat": 4,
 "nbformat_minor": 2
}
