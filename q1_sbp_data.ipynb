{
  "nbformat": 4,
  "nbformat_minor": 0,
  "metadata": {
    "colab": {
      "name": "Untitled0.ipynb",
      "provenance": [],
      "collapsed_sections": []
    },
    "kernelspec": {
      "name": "python3",
      "display_name": "Python 3"
    },
    "language_info": {
      "name": "python"
    }
  },
  "cells": [
    {
      "cell_type": "code",
      "execution_count": 15,
      "metadata": {
        "colab": {
          "base_uri": "https://localhost:8080/",
          "height": 490
        },
        "id": "YiH3Xn4-ujtm",
        "outputId": "a91134c4-1fb3-4488-c61d-daa4591198a4"
      },
      "outputs": [
        {
          "output_type": "stream",
          "name": "stdout",
          "text": [
            "coeffiecients : [1.0793511  0.27350933]\n",
            "intercepts : 35.61345244058286\n",
            "predicted SBP for 65 and 85: [129.01956696]\n",
            "predicted SBP for 79 and 80: [142.76293569]\n",
            "predicted linear regression for 65 and 85:: 129.01956695636667\n",
            "predicted linear regression for 79 and 80: 142.76293568858458\n"
          ]
        },
        {
          "output_type": "stream",
          "name": "stderr",
          "text": [
            "/usr/local/lib/python3.7/dist-packages/sklearn/base.py:451: UserWarning: X does not have valid feature names, but LinearRegression was fitted with feature names\n",
            "  \"X does not have valid feature names, but\"\n",
            "/usr/local/lib/python3.7/dist-packages/sklearn/base.py:451: UserWarning: X does not have valid feature names, but LinearRegression was fitted with feature names\n",
            "  \"X does not have valid feature names, but\"\n"
          ]
        },
        {
          "output_type": "execute_result",
          "data": {
            "text/plain": [
              "[<matplotlib.lines.Line2D at 0x7f950f148750>]"
            ]
          },
          "metadata": {},
          "execution_count": 15
        },
        {
          "output_type": "display_data",
          "data": {
            "text/plain": [
              "<Figure size 432x288 with 1 Axes>"
            ],
            "image/png": "[encoded data removed]"
          },
          "metadata": {
            "needs_background": "light"
          }
        }
      ],
      "source": [
        "from pandas.errors import InvalidIndexError\n",
        "import pandas as pd\n",
        "import numpy as np\n",
        "import matplotlib.pyplot as plt\n",
        "from sklearn import linear_model\n",
        "\n",
        "df = pd.read_csv(\"sbp_dataset.csv\")\n",
        "df\n",
        "\n",
        "reg = linear_model.LinearRegression()\n",
        "reg.fit(df[['Age', 'Weight']], df.SBP)\n",
        "\n",
        "m = reg.coef_\n",
        "print(f\"coeffiecients : {m}\")\n",
        "c = reg.intercept_\n",
        "print(f\"intercepts : {c}\")\n",
        "print(f\"predicted SBP for 65 and 85: {reg.predict([[65, 85]])}\")\n",
        "print(f\"predicted SBP for 79 and 80: {reg.predict([[79, 80]])}\")\n",
        "\n",
        "y1 = m[0]*65 + m[1]*85 + c\n",
        "y2 = m[0]*79 + m[1]*80 + c\n",
        "print(f\"predicted linear regression for 65 and 85:: {y1}\")\n",
        "print(f\"predicted linear regression for 79 and 80: {y2}\")\n",
        "\n",
        "%matplotlib inline\n",
        "plt.xlabel('Age')\n",
        "plt.ylabel('SBP')\n",
        "plt.scatter(df.Age, df.SBP, color='red')\n",
        "plt.scatter(df.Weight, df.SBP, color='blue')\n",
        "plt.plot(df.Age, reg.predict(df[['Age', 'Weight']]), color='blue')\n"
      ]
    }
  ]
}