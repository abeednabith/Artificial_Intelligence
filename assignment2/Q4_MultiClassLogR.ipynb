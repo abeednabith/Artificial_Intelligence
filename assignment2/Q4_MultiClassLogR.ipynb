{
  "metadata": {
    "language_info": {
      "codemirror_mode": {
        "name": "python",
        "version": 3
      },
      "file_extension": ".py",
      "mimetype": "text/x-python",
      "name": "python",
      "nbconvert_exporter": "python",
      "pygments_lexer": "ipython3",
      "version": "3.8"
    },
    "kernelspec": {
      "name": "python",
      "display_name": "Python (Pyodide)",
      "language": "python"
    }
  },
  "nbformat_minor": 4,
  "nbformat": 4,
  "cells": [
    {
      "cell_type": "code",
      "source": "import pandas as pd\nimport matplotlib.pyplot as plt\nfrom sklearn.linear_model import LogisticRegression",
      "metadata": {
        "trusted": true
      },
      "execution_count": 27,
      "outputs": []
    },
    {
      "cell_type": "code",
      "source": "#Importing the dataset\ndata = pd.read_csv(\"Q4_MultiClassLogR.csv\")\nX = data.iloc[:, [0, 1]].values\ny = data.iloc[:, 2].values\ndata",
      "metadata": {
        "trusted": true
      },
      "execution_count": 28,
      "outputs": [
        {
          "execution_count": 28,
          "output_type": "execute_result",
          "data": {
            "text/plain": "       X1      X2  Y\n0    3.25   7.956  2\n1    3.30   2.200  0\n2    3.32   3.410  0\n3    3.35  10.272  2\n4    4.01   1.650  0\n5    4.03   2.510  0\n6    4.05   4.210  0\n7    4.05   7.380  2\n8    4.06  11.412  2\n9    4.07   9.198  2\n10   5.22   2.150  0\n11   5.24   3.410  0\n12   5.25   7.866  2\n13   5.28  10.008  2\n14   8.15   6.300  1\n15   8.23   7.950  1\n16   9.38   7.340  1\n17   9.40   8.210  1\n18  10.20   6.520  1\n19  10.80   7.720  1\n20   4.01   3.020  0\n21   9.10   6.500  0\n22   3.50   9.500  0\n23   6.01   6.010  0",
            "text/html": "<div>\n<style scoped>\n    .dataframe tbody tr th:only-of-type {\n        vertical-align: middle;\n    }\n\n    .dataframe tbody tr th {\n        vertical-align: top;\n    }\n\n    .dataframe thead th {\n        text-align: right;\n    }\n</style>\n<table border=\"1\" class=\"dataframe\">\n  <thead>\n    <tr style=\"text-align: right;\">\n      <th></th>\n      <th>X1</th>\n      <th>X2</th>\n      <th>Y</th>\n    </tr>\n  </thead>\n  <tbody>\n    <tr>\n      <th>0</th>\n      <td>3.25</td>\n      <td>7.956</td>\n      <td>2</td>\n    </tr>\n    <tr>\n      <th>1</th>\n      <td>3.30</td>\n      <td>2.200</td>\n      <td>0</td>\n    </tr>\n    <tr>\n      <th>2</th>\n      <td>3.32</td>\n      <td>3.410</td>\n      <td>0</td>\n    </tr>\n    <tr>\n      <th>3</th>\n      <td>3.35</td>\n      <td>10.272</td>\n      <td>2</td>\n    </tr>\n    <tr>\n      <th>4</th>\n      <td>4.01</td>\n      <td>1.650</td>\n      <td>0</td>\n    </tr>\n    <tr>\n      <th>5</th>\n      <td>4.03</td>\n      <td>2.510</td>\n      <td>0</td>\n    </tr>\n    <tr>\n      <th>6</th>\n      <td>4.05</td>\n      <td>4.210</td>\n      <td>0</td>\n    </tr>\n    <tr>\n      <th>7</th>\n      <td>4.05</td>\n      <td>7.380</td>\n      <td>2</td>\n    </tr>\n    <tr>\n      <th>8</th>\n      <td>4.06</td>\n      <td>11.412</td>\n      <td>2</td>\n    </tr>\n    <tr>\n      <th>9</th>\n      <td>4.07</td>\n      <td>9.198</td>\n      <td>2</td>\n    </tr>\n    <tr>\n      <th>10</th>\n      <td>5.22</td>\n      <td>2.150</td>\n      <td>0</td>\n    </tr>\n    <tr>\n      <th>11</th>\n      <td>5.24</td>\n      <td>3.410</td>\n      <td>0</td>\n    </tr>\n    <tr>\n      <th>12</th>\n      <td>5.25</td>\n      <td>7.866</td>\n      <td>2</td>\n    </tr>\n    <tr>\n      <th>13</th>\n      <td>5.28</td>\n      <td>10.008</td>\n      <td>2</td>\n    </tr>\n    <tr>\n      <th>14</th>\n      <td>8.15</td>\n      <td>6.300</td>\n      <td>1</td>\n    </tr>\n    <tr>\n      <th>15</th>\n      <td>8.23</td>\n      <td>7.950</td>\n      <td>1</td>\n    </tr>\n    <tr>\n      <th>16</th>\n      <td>9.38</td>\n      <td>7.340</td>\n      <td>1</td>\n    </tr>\n    <tr>\n      <th>17</th>\n      <td>9.40</td>\n      <td>8.210</td>\n      <td>1</td>\n    </tr>\n    <tr>\n      <th>18</th>\n      <td>10.20</td>\n      <td>6.520</td>\n      <td>1</td>\n    </tr>\n    <tr>\n      <th>19</th>\n      <td>10.80</td>\n      <td>7.720</td>\n      <td>1</td>\n    </tr>\n    <tr>\n      <th>20</th>\n      <td>4.01</td>\n      <td>3.020</td>\n      <td>0</td>\n    </tr>\n    <tr>\n      <th>21</th>\n      <td>9.10</td>\n      <td>6.500</td>\n      <td>0</td>\n    </tr>\n    <tr>\n      <th>22</th>\n      <td>3.50</td>\n      <td>9.500</td>\n      <td>0</td>\n    </tr>\n    <tr>\n      <th>23</th>\n      <td>6.01</td>\n      <td>6.010</td>\n      <td>0</td>\n    </tr>\n  </tbody>\n</table>\n</div>"
          },
          "metadata": {}
        }
      ]
    },
    {
      "cell_type": "code",
      "source": "#create the training and test dataset\nfrom sklearn.model_selection import train_test_split\nX_train, X_test, y_train, y_test = train_test_split(X, y, test_size = 0.16, random_state = 0)",
      "metadata": {
        "trusted": true
      },
      "execution_count": 71,
      "outputs": []
    },
    {
      "cell_type": "code",
      "source": "#Feature Scaling\n#It does not need to scale y_train because it contains categorical data \nfrom sklearn.preprocessing import StandardScaler\nsc_X = StandardScaler()\nX_train = sc_X.fit_transform(X_train)\nX_test = sc_X.transform(X_test)",
      "metadata": {
        "trusted": true
      },
      "execution_count": 72,
      "outputs": []
    },
    {
      "cell_type": "code",
      "source": "#Fitting the Logistic Regression to the Training Set:\nfrom sklearn.linear_model import LogisticRegression\nmodel = LogisticRegression(random_state=0)\nmodel.fit(X_train, y_train)",
      "metadata": {
        "trusted": true
      },
      "execution_count": 73,
      "outputs": [
        {
          "execution_count": 73,
          "output_type": "execute_result",
          "data": {
            "text/plain": "LogisticRegression(random_state=0)"
          },
          "metadata": {}
        }
      ]
    },
    {
      "cell_type": "code",
      "source": "# checking accuracy\nmodel.score(X_test, y_test)",
      "metadata": {
        "trusted": true
      },
      "execution_count": 74,
      "outputs": [
        {
          "execution_count": 74,
          "output_type": "execute_result",
          "data": {
            "text/plain": "0.75"
          },
          "metadata": {}
        }
      ]
    },
    {
      "cell_type": "code",
      "source": "#Predicting the Test set results from the question\nquestion = [[4.01,3.02],[9.1,6.5],[3.5,9.5],[6.01,6.01]]\ny_predict = model.predict(predict)\nprint(f\"predicted values are: {y_predict[0]}, {y_predict[1]}, {y_predict[2]}, {y_predict[3]}\")",
      "metadata": {
        "trusted": true
      },
      "execution_count": 79,
      "outputs": [
        {
          "name": "stdout",
          "text": "predicted values are: 1, 1, 2, 1\n",
          "output_type": "stream"
        }
      ]
    },
    {
      "cell_type": "code",
      "source": "#Confusion Matrix contains the correct and #incorrect predictions of our model \nfrom sklearn.metrics import confusion_matrix\n\n#y_true parameter will be y_test\n#y_pred is the logistic regression model prediction\ncm = confusion_matrix(y_test, y_predict)\ncm",
      "metadata": {
        "trusted": true
      },
      "execution_count": 77,
      "outputs": [
        {
          "execution_count": 77,
          "output_type": "execute_result",
          "data": {
            "text/plain": "array([[0, 2, 1],\n       [0, 1, 0],\n       [0, 0, 0]], dtype=int64)"
          },
          "metadata": {}
        }
      ]
    },
    {
      "cell_type": "code",
      "source": "",
      "metadata": {},
      "execution_count": null,
      "outputs": []
    }
  ]
}