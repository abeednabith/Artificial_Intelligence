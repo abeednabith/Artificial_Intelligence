{
  "metadata": {
    "kernelspec": {
      "name": "python",
      "display_name": "Python (Pyodide)",
      "language": "python"
    },
    "language_info": {
      "codemirror_mode": {
        "name": "python",
        "version": 3
      },
      "file_extension": ".py",
      "mimetype": "text/x-python",
      "name": "python",
      "nbconvert_exporter": "python",
      "pygments_lexer": "ipython3",
      "version": "3.8"
    }
  },
  "nbformat_minor": 4,
  "nbformat": 4,
  "cells": [
    {
      "cell_type": "code",
      "source": "import numpy as np\nimport matplotlib.pyplot as plt",
      "metadata": {
        "trusted": true
      },
      "execution_count": 1,
      "outputs": []
    },
    {
      "cell_type": "code",
      "source": "X = np.array([1,3,5,7,9,11,13,15,17,19])\nY = np.array([3,3,7,7,11,11,15,15,19,19])",
      "metadata": {
        "trusted": true
      },
      "execution_count": 2,
      "outputs": []
    },
    {
      "cell_type": "code",
      "source": "#plotting X and Y\n%matplotlib inline\nplt.plot(X,Y,'o')\nplt.xlabel('X')\nplt.ylabel('Y')\nplt.scatter('X', 'Y')",
      "metadata": {
        "trusted": true
      },
      "execution_count": 3,
      "outputs": [
        {
          "execution_count": 3,
          "output_type": "execute_result",
          "data": {
            "text/plain": "<matplotlib.collections.PathCollection at 0x2829f58>"
          },
          "metadata": {}
        },
        {
          "output_type": "display_data",
          "data": {
            "text/plain": "<Figure size 432x288 with 1 Axes>",
            "image/png": "[encoded data removed]"
          },
          "metadata": {
            "needs_background": "light"
          }
        }
      ]
    },
    {
      "cell_type": "code",
      "source": "#Normal Equation\nX_b = np.c_[np.ones((len(X),1)),X] #concatinating with second axis\ntheta = np.linalg.inv(X_b.T.dot(X_b)).dot(X_b.T).dot(Y)\nprint(f\"theta0:{theta[0]}, theta1:{theta[1]}\")",
      "metadata": {
        "trusted": true
      },
      "execution_count": 5,
      "outputs": [
        {
          "name": "stdout",
          "text": "theta0:1.3030303030303068, theta1:0.9696969696969695\n",
          "output_type": "stream"
        }
      ]
    },
    {
      "cell_type": "code",
      "source": "#predict values for Y\nx_predict = np.array([[1],[20]]) #sample prediction\nx_predict_b = np.c_[np.ones((len(x_predict),1)), x_predict]\nprint(f\"x_predict: {x_predict_b}\")\n\ny_predict = x_predict_b.dot(theta)\nprint(f\"y_predict: {y_predict}\")",
      "metadata": {
        "trusted": true
      },
      "execution_count": 7,
      "outputs": [
        {
          "name": "stdout",
          "text": "x_predict: [[ 1.  1.]\n [ 1. 20.]]\ny_predict: [ 2.27272727 20.6969697 ]\n",
          "output_type": "stream"
        }
      ]
    },
    {
      "cell_type": "code",
      "source": "#plotting predicted values\nplt.plot(X, Y, 'o')\nplt.plot(x_predict, y_predict, 'r-')\nplt.xlabel('x')\nplt.ylabel('y')",
      "metadata": {
        "trusted": true
      },
      "execution_count": 8,
      "outputs": [
        {
          "execution_count": 8,
          "output_type": "execute_result",
          "data": {
            "text/plain": "Text(0, 0.5, 'y')"
          },
          "metadata": {}
        },
        {
          "output_type": "display_data",
          "data": {
            "text/plain": "<Figure size 432x288 with 1 Axes>",
            "image/png": "[encoded data removed]"
          },
          "metadata": {
            "needs_background": "light"
          }
        }
      ]
    },
    {
      "cell_type": "code",
      "source": "",
      "metadata": {},
      "execution_count": null,
      "outputs": []
    }
  ]
}