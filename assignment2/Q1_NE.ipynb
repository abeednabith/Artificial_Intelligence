{
  "cells": [
    {
      "cell_type": "code",
      "execution_count": 1,
      "metadata": {
        "trusted": true
      },
      "outputs": [],
      "source": [
        "import numpy as np\n",
        "import matplotlib.pyplot as plt"
      ]
    },
    {
      "cell_type": "code",
      "execution_count": 2,
      "metadata": {
        "trusted": true
      },
      "outputs": [],
      "source": [
        "X = np.array([1,3,5,7,9,11,13,15,17,19])\n",
        "Y = np.array([3,3,7,7,11,11,15,15,19,19])"
      ]
    },
    {
      "cell_type": "code",
      "execution_count": 3,
      "metadata": {
        "trusted": true
      },
      "outputs": [
        {
          "data": {
            "text/plain": [
              "<matplotlib.collections.PathCollection at 0x7fa4f272d340>"
            ]
          },
          "execution_count": 3,
          "metadata": {},
          "output_type": "execute_result"
        },
        {
          "data": {
            "image/png": "[encoded data removed]",
            "text/plain": [
              "<Figure size 432x288 with 1 Axes>"
            ]
          },
          "metadata": {
            "needs_background": "light"
          },
          "output_type": "display_data"
        }
      ],
      "source": [
        "#plotting X and Y\n",
        "%matplotlib inline\n",
        "plt.plot(X,Y,'o')\n",
        "plt.xlabel('X')\n",
        "plt.ylabel('Y')\n",
        "plt.scatter('X', 'Y')"
      ]
    },
    {
      "cell_type": "code",
      "execution_count": 4,
      "metadata": {
        "trusted": true
      },
      "outputs": [
        {
          "name": "stdout",
          "output_type": "stream",
          "text": [
            "theta0:1.303030303030303, theta1:0.9696969696969697\n"
          ]
        }
      ],
      "source": [
        "#Normal Equation\n",
        "X_b = np.c_[np.ones((len(X),1)),X] #concatinating with second axis\n",
        "theta = np.linalg.inv(X_b.T.dot(X_b)).dot(X_b.T).dot(Y)\n",
        "print(f\"theta0:{theta[0]}, theta1:{theta[1]}\")"
      ]
    },
    {
      "cell_type": "code",
      "execution_count": 5,
      "metadata": {
        "trusted": true
      },
      "outputs": [
        {
          "name": "stdout",
          "output_type": "stream",
          "text": [
            "x_predict: [[ 1.  1.]\n",
            " [ 1. 20.]]\n",
            "y_predict: [ 2.27272727 20.6969697 ]\n"
          ]
        }
      ],
      "source": [
        "#predict values for Y\n",
        "x_predict = np.array([[1],[20]]) #sample prediction\n",
        "x_predict_b = np.c_[np.ones((len(x_predict),1)), x_predict]\n",
        "print(f\"x_predict: {x_predict_b}\")\n",
        "\n",
        "y_predict = x_predict_b.dot(theta)\n",
        "print(f\"y_predict: {y_predict}\")"
      ]
    },
    {
      "cell_type": "code",
      "execution_count": 6,
      "metadata": {
        "trusted": true
      },
      "outputs": [
        {
          "data": {
            "text/plain": [
              "Text(0, 0.5, 'y')"
            ]
          },
          "execution_count": 6,
          "metadata": {},
          "output_type": "execute_result"
        },
        {
          "data": {
            "image/png": "[encoded data removed]",
            "text/plain": [
              "<Figure size 432x288 with 1 Axes>"
            ]
          },
          "metadata": {
            "needs_background": "light"
          },
          "output_type": "display_data"
        }
      ],
      "source": [
        "#plotting predicted values\n",
        "plt.plot(X, Y, 'o')\n",
        "plt.plot(x_predict, y_predict, 'r-')\n",
        "plt.xlabel('x')\n",
        "plt.ylabel('y')"
      ]
    }
  ],
  "metadata": {
    "kernelspec": {
      "display_name": "Python 3.9.12 ('base')",
      "language": "python",
      "name": "python3"
    },
    "language_info": {
      "codemirror_mode": {
        "name": "ipython",
        "version": 3
      },
      "file_extension": ".py",
      "mimetype": "text/x-python",
      "name": "python",
      "nbconvert_exporter": "python",
      "pygments_lexer": "ipython3",
      "version": "3.9.12"
    },
    "vscode": {
      "interpreter": {
        "hash": "1e9a73f8d3ac302bccfbecb3fae28533392a9eddc6e36df7ca982d921978b306"
      }
    }
  },
  "nbformat": 4,
  "nbformat_minor": 4
}
